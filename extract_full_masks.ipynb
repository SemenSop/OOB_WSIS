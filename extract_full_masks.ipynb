{
  "cells": [
    {
      "cell_type": "code",
      "execution_count": null,
      "metadata": {
        "colab": {
          "base_uri": "https://localhost:8080/"
        },
        "id": "IpMt144pm_R_",
        "outputId": "68d83102-0a24-4710-b1e7-b5a45a7faf31"
      },
      "outputs": [
        {
          "output_type": "stream",
          "name": "stdout",
          "text": [
            "/root\n",
            "Drive already mounted at /content/drive/; to attempt to forcibly remount, call drive.mount(\"/content/drive/\", force_remount=True).\n",
            "/content/drive/MyDrive/Colab Notebooks/diploma_thesis\n",
            "bbox_ann.csv                 extract_full_masks.ipynb\n",
            "bbox_ann_train.csv           \u001b[0m\u001b[01;34mimagenet\u001b[0m/\n",
            "Conformer_small_patch16.pth  \u001b[01;34mNOTEBOOK_TRANSCAM\u001b[0m/\n",
            "\u001b[01;34mCutLER\u001b[0m/                      plot_images_for_thesis.ipynb\n",
            "\u001b[01;34mdataset\u001b[0m/                     polygon_masks.py\n",
            "\u001b[01;34mdataset_exp_2\u001b[0m/               \u001b[01;34m__pycache__\u001b[0m/\n",
            "dataset.ipynb                test_cutler.ipynb\n",
            "dataset_v2.ipynb             test_cutler_train.ipynb\n",
            "\u001b[01;34mdataset_yolo\u001b[0m/                test_cutler_v2.ipynb\n",
            "divide_dataset.ipynb         \u001b[01;34mTransCAM\u001b[0m/\n",
            "\u001b[01;34mè«ñêê_2022\u001b[0m/                  \u001b[01;34multralytics\u001b[0m/\n",
            "\u001b[01;34mEXP_2\u001b[0m/                       yolov8.ipynb\n",
            "explore_masks.ipynb\n"
          ]
        }
      ],
      "source": [
        "%cd\n",
        "from google.colab import drive\n",
        "drive.mount('/content/drive/')\n",
        "%cd /content/drive/MyDrive/Colab Notebooks/diploma_thesis\n",
        "%ls"
      ]
    },
    {
      "cell_type": "code",
      "execution_count": null,
      "metadata": {
        "id": "4LqEVoAkrRho",
        "colab": {
          "base_uri": "https://localhost:8080/"
        },
        "outputId": "2be301eb-6105-4e03-d355-570ee192348f"
      },
      "outputs": [
        {
          "output_type": "stream",
          "name": "stdout",
          "text": [
            "Looking in indexes: https://pypi.org/simple, https://us-python.pkg.dev/colab-wheels/public/simple/\n",
            "Requirement already satisfied: supervisely in /usr/local/lib/python3.9/dist-packages (6.70.21)\n",
            "Requirement already satisfied: GitPython in /usr/local/lib/python3.9/dist-packages (from supervisely) (3.1.31)\n",
            "Requirement already satisfied: opencv-python<5.0.0.0,>=4.5.5.62 in /usr/local/lib/python3.9/dist-packages (from supervisely) (4.7.0.72)\n",
            "Requirement already satisfied: jinja2<4.0.0,>=3.0.3 in /usr/local/lib/python3.9/dist-packages (from supervisely) (3.1.2)\n",
            "Requirement already satisfied: arel<1.0.0,>=0.2.0 in /usr/local/lib/python3.9/dist-packages (from supervisely) (0.2.0)\n",
            "Requirement already satisfied: distinctipy in /usr/local/lib/python3.9/dist-packages (from supervisely) (1.2.2)\n",
            "Requirement already satisfied: rich in /usr/local/lib/python3.9/dist-packages (from supervisely) (13.3.3)\n",
            "Requirement already satisfied: python-dotenv<1.0.0,>=0.19.2 in /usr/local/lib/python3.9/dist-packages (from supervisely) (0.21.1)\n",
            "Requirement already satisfied: numerize in /usr/local/lib/python3.9/dist-packages (from supervisely) (0.12)\n",
            "Requirement already satisfied: numpy<2.0.0,>=1.19 in /usr/local/lib/python3.9/dist-packages (from supervisely) (1.22.4)\n",
            "Requirement already satisfied: bidict<1.0.0,>=0.21.2 in /usr/local/lib/python3.9/dist-packages (from supervisely) (0.22.1)\n",
            "Requirement already satisfied: click in /usr/local/lib/python3.9/dist-packages (from supervisely) (8.1.3)\n",
            "Requirement already satisfied: psutil<6.0.0,>=5.9.0 in /usr/local/lib/python3.9/dist-packages (from supervisely) (5.9.4)\n",
            "Requirement already satisfied: scikit-video<2.0.0,>=1.1.11 in /usr/local/lib/python3.9/dist-packages (from supervisely) (1.1.11)\n",
            "Requirement already satisfied: requests<3.0.0,>=2.27.1 in /usr/local/lib/python3.9/dist-packages (from supervisely) (2.27.1)\n",
            "Requirement already satisfied: pandas<=1.5.2,>=1.1.3 in /usr/local/lib/python3.9/dist-packages (from supervisely) (1.4.4)\n",
            "Requirement already satisfied: PTable<1.0.0,>=0.9.2 in /usr/local/lib/python3.9/dist-packages (from supervisely) (0.9.2)\n",
            "Requirement already satisfied: protobuf<=3.20.3,>=3.14.0 in /usr/local/lib/python3.9/dist-packages (from supervisely) (3.20.3)\n",
            "Requirement already satisfied: trimesh<4.0.0,>=3.11.2 in /usr/local/lib/python3.9/dist-packages (from supervisely) (3.21.3)\n",
            "Requirement already satisfied: python-json-logger<3.0.0,>=0.1.11 in /usr/local/lib/python3.9/dist-packages (from supervisely) (2.0.7)\n",
            "Requirement already satisfied: async-asgi-testclient in /usr/local/lib/python3.9/dist-packages (from supervisely) (1.4.11)\n",
            "Requirement already satisfied: pynrrd<1.0.0,>=0.4.2 in /usr/local/lib/python3.9/dist-packages (from supervisely) (0.4.3)\n",
            "Requirement already satisfied: fastapi<1.0.0,>=0.79.0 in /usr/local/lib/python3.9/dist-packages (from supervisely) (0.95.0)\n",
            "Requirement already satisfied: MarkupSafe<3.0.0,>=2.1.1 in /usr/local/lib/python3.9/dist-packages (from supervisely) (2.1.2)\n",
            "Requirement already satisfied: Shapely<2.0.0,>=1.7.1 in /usr/local/lib/python3.9/dist-packages (from supervisely) (1.8.5.post1)\n",
            "Requirement already satisfied: requests-toolbelt<1.0.0,>=0.9.1 in /usr/local/lib/python3.9/dist-packages (from supervisely) (0.10.1)\n",
            "Requirement already satisfied: SimpleITK<3.0.0.0,>=2.1.1.2 in /usr/local/lib/python3.9/dist-packages (from supervisely) (2.2.1)\n",
            "Requirement already satisfied: stringcase<2.0.0,>=1.2.0 in /usr/local/lib/python3.9/dist-packages (from supervisely) (1.2.0)\n",
            "Requirement already satisfied: uvicorn[standard]<1.0.0,>=0.18.2 in /usr/local/lib/python3.9/dist-packages (from supervisely) (0.21.1)\n",
            "Requirement already satisfied: websockets<11.0,>=10.3 in /usr/local/lib/python3.9/dist-packages (from supervisely) (10.4)\n",
            "Requirement already satisfied: python-magic<1.0.0,>=0.4.25 in /usr/local/lib/python3.9/dist-packages (from supervisely) (0.4.27)\n",
            "Requirement already satisfied: ffmpeg-python==0.2.0 in /usr/local/lib/python3.9/dist-packages (from supervisely) (0.2.0)\n",
            "Requirement already satisfied: python-multipart==0.0.5 in /usr/local/lib/python3.9/dist-packages (from supervisely) (0.0.5)\n",
            "Requirement already satisfied: pillow<10.0.0,>=5.4.1 in /usr/local/lib/python3.9/dist-packages (from supervisely) (8.4.0)\n",
            "Requirement already satisfied: jsonpatch<2.0,>=1.32 in /usr/local/lib/python3.9/dist-packages (from supervisely) (1.32)\n",
            "Requirement already satisfied: PyYAML in /usr/local/lib/python3.9/dist-packages (from supervisely) (6.0)\n",
            "Requirement already satisfied: tqdm<5.0.0,>=4.62.3 in /usr/local/lib/python3.9/dist-packages (from supervisely) (4.65.0)\n",
            "Requirement already satisfied: beautifulsoup4 in /usr/local/lib/python3.9/dist-packages (from supervisely) (4.11.2)\n",
            "Requirement already satisfied: pydicom<3.0.0,>=2.3.0 in /usr/local/lib/python3.9/dist-packages (from supervisely) (2.3.1)\n",
            "Requirement already satisfied: imutils==0.5.4 in /usr/local/lib/python3.9/dist-packages (from supervisely) (0.5.4)\n",
            "Requirement already satisfied: varname<1.0.0,>=0.8.1 in /usr/local/lib/python3.9/dist-packages (from supervisely) (0.11.0)\n",
            "Requirement already satisfied: giturlparse in /usr/local/lib/python3.9/dist-packages (from supervisely) (0.10.0)\n",
            "Requirement already satisfied: future in /usr/local/lib/python3.9/dist-packages (from ffmpeg-python==0.2.0->supervisely) (0.18.3)\n",
            "Requirement already satisfied: six>=1.4.0 in /usr/local/lib/python3.9/dist-packages (from python-multipart==0.0.5->supervisely) (1.16.0)\n",
            "Requirement already satisfied: watchgod==0.6.* in /usr/local/lib/python3.9/dist-packages (from arel<1.0.0,>=0.2.0->supervisely) (0.6)\n",
            "Requirement already satisfied: starlette==0.* in /usr/local/lib/python3.9/dist-packages (from arel<1.0.0,>=0.2.0->supervisely) (0.26.1)\n",
            "Requirement already satisfied: typing-extensions>=3.10.0 in /usr/local/lib/python3.9/dist-packages (from starlette==0.*->arel<1.0.0,>=0.2.0->supervisely) (4.5.0)\n",
            "Requirement already satisfied: anyio<5,>=3.4.0 in /usr/local/lib/python3.9/dist-packages (from starlette==0.*->arel<1.0.0,>=0.2.0->supervisely) (3.6.2)\n",
            "Requirement already satisfied: pydantic!=1.7,!=1.7.1,!=1.7.2,!=1.7.3,!=1.8,!=1.8.1,<2.0.0,>=1.6.2 in /usr/local/lib/python3.9/dist-packages (from fastapi<1.0.0,>=0.79.0->supervisely) (1.10.7)\n",
            "Requirement already satisfied: jsonpointer>=1.9 in /usr/local/lib/python3.9/dist-packages (from jsonpatch<2.0,>=1.32->supervisely) (2.3)\n",
            "Requirement already satisfied: pytz>=2020.1 in /usr/local/lib/python3.9/dist-packages (from pandas<=1.5.2,>=1.1.3->supervisely) (2022.7.1)\n",
            "Requirement already satisfied: python-dateutil>=2.8.1 in /usr/local/lib/python3.9/dist-packages (from pandas<=1.5.2,>=1.1.3->supervisely) (2.8.2)\n",
            "Requirement already satisfied: idna<4,>=2.5 in /usr/local/lib/python3.9/dist-packages (from requests<3.0.0,>=2.27.1->supervisely) (3.4)\n",
            "Requirement already satisfied: urllib3<1.27,>=1.21.1 in /usr/local/lib/python3.9/dist-packages (from requests<3.0.0,>=2.27.1->supervisely) (1.26.15)\n",
            "Requirement already satisfied: certifi>=2017.4.17 in /usr/local/lib/python3.9/dist-packages (from requests<3.0.0,>=2.27.1->supervisely) (2022.12.7)\n",
            "Requirement already satisfied: charset-normalizer~=2.0.0 in /usr/local/lib/python3.9/dist-packages (from requests<3.0.0,>=2.27.1->supervisely) (2.0.12)\n",
            "Requirement already satisfied: scipy in /usr/local/lib/python3.9/dist-packages (from scikit-video<2.0.0,>=1.1.11->supervisely) (1.10.1)\n",
            "Requirement already satisfied: h11>=0.8 in /usr/local/lib/python3.9/dist-packages (from uvicorn[standard]<1.0.0,>=0.18.2->supervisely) (0.14.0)\n",
            "Requirement already satisfied: uvloop!=0.15.0,!=0.15.1,>=0.14.0 in /usr/local/lib/python3.9/dist-packages (from uvicorn[standard]<1.0.0,>=0.18.2->supervisely) (0.17.0)\n",
            "Requirement already satisfied: httptools>=0.5.0 in /usr/local/lib/python3.9/dist-packages (from uvicorn[standard]<1.0.0,>=0.18.2->supervisely) (0.5.0)\n",
            "Requirement already satisfied: watchfiles>=0.13 in /usr/local/lib/python3.9/dist-packages (from uvicorn[standard]<1.0.0,>=0.18.2->supervisely) (0.19.0)\n",
            "Requirement already satisfied: executing<2.0,>=1.2 in /usr/local/lib/python3.9/dist-packages (from varname<1.0.0,>=0.8.1->supervisely) (1.2.0)\n",
            "Requirement already satisfied: multidict<7.0,>=4.0 in /usr/local/lib/python3.9/dist-packages (from async-asgi-testclient->supervisely) (6.0.4)\n",
            "Requirement already satisfied: soupsieve>1.2 in /usr/local/lib/python3.9/dist-packages (from beautifulsoup4->supervisely) (2.4)\n",
            "Requirement already satisfied: gitdb<5,>=4.0.1 in /usr/local/lib/python3.9/dist-packages (from GitPython->supervisely) (4.0.10)\n",
            "Requirement already satisfied: pygments<3.0.0,>=2.13.0 in /usr/local/lib/python3.9/dist-packages (from rich->supervisely) (2.14.0)\n",
            "Requirement already satisfied: markdown-it-py<3.0.0,>=2.2.0 in /usr/local/lib/python3.9/dist-packages (from rich->supervisely) (2.2.0)\n",
            "Requirement already satisfied: smmap<6,>=3.0.1 in /usr/local/lib/python3.9/dist-packages (from gitdb<5,>=4.0.1->GitPython->supervisely) (5.0.0)\n",
            "Requirement already satisfied: mdurl~=0.1 in /usr/local/lib/python3.9/dist-packages (from markdown-it-py<3.0.0,>=2.2.0->rich->supervisely) (0.1.2)\n",
            "Requirement already satisfied: sniffio>=1.1 in /usr/local/lib/python3.9/dist-packages (from anyio<5,>=3.4.0->starlette==0.*->arel<1.0.0,>=0.2.0->supervisely) (1.3.0)\n"
          ]
        }
      ],
      "source": [
        "!pip install supervisely"
      ]
    },
    {
      "cell_type": "code",
      "execution_count": null,
      "metadata": {
        "id": "l3JJHMC04VPJ"
      },
      "outputs": [],
      "source": [
        "import os\n",
        "import json\n",
        "from glob import glob \n",
        "import json\n",
        "from matplotlib import pyplot as plt\n",
        "import matplotlib.patches as patches\n",
        "from matplotlib.patches import Rectangle\n",
        "from tqdm import tqdm\n",
        "import shutil\n",
        "from PIL import Image\n",
        "import cv2\n",
        "\n",
        "import base64\n",
        "import io\n",
        "import zlib\n",
        "import numpy as np\n",
        "import supervisely as slys\n",
        "from polygon_masks import get_rle_mask, rleToMask, bitmap2rle, mask_2_base64"
      ]
    },
    {
      "cell_type": "markdown",
      "source": [
        "# 1. Transform plant parts dataset annotations for the TransCAM"
      ],
      "metadata": {
        "id": "Sc8tryUsTOHv"
      }
    },
    {
      "cell_type": "code",
      "execution_count": null,
      "metadata": {
        "id": "TVFFFHmQoAOG",
        "colab": {
          "base_uri": "https://localhost:8080/"
        },
        "outputId": "b87d376d-929b-4e8d-9d27-1e34a1acbec7"
      },
      "outputs": [
        {
          "output_type": "stream",
          "name": "stdout",
          "text": [
            "345 345\n"
          ]
        }
      ],
      "source": [
        "# Get paths to images and annotations\n",
        "path2img = sorted(glob(os.path.join('dataset/images/train/', '*.jpg'))) \n",
        "path2ann = sorted(glob(os.path.join('dataset/labels_json/train/', '*.json'))) \n",
        "print(len(path2img), len(path2ann))\n",
        "\n",
        "# Read image names\n",
        "img_names = [];\n",
        "for path in path2img:\n",
        "  img_name = path.split('/')[-1].split('.')[0];\n",
        "  img_names.append( img_name );\n",
        "\n",
        "# Part classes\n",
        "object_type = {\"background\": 0,\n",
        "              \"stem\": 1,  \n",
        "              \"leaf\": 2, \n",
        "              \"fruit\": 3,\n",
        "              \"flower\": 4,\n",
        "              \"root\": 5,\n",
        "              \"other\": 6}\n"
      ]
    },
    {
      "cell_type": "code",
      "execution_count": null,
      "metadata": {
        "id": "fOSg827IoH_I",
        "colab": {
          "base_uri": "https://localhost:8080/"
        },
        "outputId": "e4db5843-4782-48b8-ed78-3c4c096b30f0"
      },
      "outputs": [
        {
          "output_type": "stream",
          "name": "stderr",
          "text": [
            "100%|██████████| 345/345 [00:00<00:00, 26315.95it/s]\n"
          ]
        }
      ],
      "source": [
        "# Read annotations from json\n",
        "ann_in_img = [];\n",
        "hw_in_img = [];\n",
        "for ann in path2ann:\n",
        "  with open(ann) as file:\n",
        "      data = json.load(file)\n",
        "\n",
        "      h = data['size']['height'];\n",
        "      w = data['size']['width'];\n",
        "      objects = data['objects'];\n",
        "\n",
        "      # define amount of the part instances in the image\n",
        "      plant_instance = set();\n",
        "      for part in objects:\n",
        "        plant_instance.add(part['classTitle'].lower())\n",
        "      \n",
        "      # extract bit map for each instance\n",
        "      plant_data = {};\n",
        "      plant_id = {};\n",
        "      for instance in plant_instance:\n",
        "        plant_data[instance] = [];\n",
        "        plant_id[instance] = [];\n",
        "\n",
        "        for part in objects:\n",
        "          if( part['tags']!=[] ):\n",
        "            if(instance == part['classTitle'].lower()):\n",
        "              plant_data[instance].append( part['bitmap'])\n",
        "              plant_id[instance].append( part['tags'][0]['name'] );\n",
        "      \n",
        "      ann_in_img.append(plant_data)\n",
        "      hw_in_img.append([h,w])\n",
        "\n",
        "\n",
        "# Extract annotations of the object parts\n",
        "counter = 0;\n",
        "csv_matrix = [];\n",
        "for ann in tqdm(ann_in_img):\n",
        "\n",
        "  for class_name in ann.keys():\n",
        "\n",
        "      # WRITE CSV DATA FORMAT\n",
        "      csv_row = [];\n",
        "      csv_row = [img_names[counter], object_type[class_name.lower()] ];\n",
        "      csv_matrix.append(csv_row);\n",
        "\n",
        "  counter = counter + 1;\n"
      ]
    },
    {
      "cell_type": "code",
      "execution_count": null,
      "metadata": {
        "id": "m1lmPnYtoIqY"
      },
      "outputs": [],
      "source": [
        "# Write object parts annotations\n",
        "import csv\n",
        "\n",
        "# open the file in the write mode\n",
        "with open('dataset/bbox_part_train.csv', 'w') as file:\n",
        "\n",
        "    # create the csv writer\n",
        "    writer = csv.writer(file)\n",
        "\n",
        "    # write a row to the csv file\n",
        "    for row in csv_matrix:\n",
        "      writer.writerow(row);\n",
        "\n"
      ]
    },
    {
      "cell_type": "markdown",
      "source": [
        "# 2. Transform full plants dataset annotations for the TransCAM"
      ],
      "metadata": {
        "id": "1fmYqo1bTpyf"
      }
    },
    {
      "cell_type": "code",
      "execution_count": null,
      "metadata": {
        "id": "eK008BF-ctcn",
        "colab": {
          "base_uri": "https://localhost:8080/"
        },
        "outputId": "d205be76-d932-4d4c-c597-0b8e067c1f7e"
      },
      "outputs": [
        {
          "output_type": "stream",
          "name": "stdout",
          "text": [
            "['Cassava Leaf Disease', 'Corn or Maize', 'Fruit Plants', 'Herbarium', 'Plant Pathology', 'Tomato detection', 'Wild Edible Plants', 'flower_classification']\n",
            "['Cassava Leaf Disease', 'Corn or Maize', 'Fruit Plants', 'Herbarium', 'Plant Pathology', 'Tomato detection', 'Wild Edible Plants', 'flower_classification']\n"
          ]
        }
      ],
      "source": [
        "# Prepare full plant annotations\n",
        "path2test = 'è«ñêê_2022/Train and test/test/';\n",
        "path2train = 'è«ñêê_2022/Train and test/train/';\n",
        "\n",
        "test_dataset_name = os.listdir(path2test);\n",
        "train_dataset_name = os.listdir(path2train)\n",
        "\n",
        "print(test_dataset_name)\n",
        "print(train_dataset_name)\n",
        "\n",
        "img_name_cat = {};\n",
        "for super_cat in train_dataset_name:\n",
        "  path2cat_images = sorted(glob(os.path.join(path2train+super_cat+'/img/', '*.jpg')))\n",
        "  img_name_in_cat = [];\n",
        "  for path in path2cat_images:\n",
        "    img_name_in_cat.append( path.split('/')[-1].split('.')[0] )\n",
        "  img_name_cat[super_cat] = img_name_in_cat.copy();\n"
      ]
    },
    {
      "cell_type": "code",
      "execution_count": null,
      "metadata": {
        "id": "4x_wQ-H_cxnC",
        "colab": {
          "base_uri": "https://localhost:8080/"
        },
        "outputId": "bfb00893-154e-4f84-94c2-0a2d8a598dc4"
      },
      "outputs": [
        {
          "output_type": "stream",
          "name": "stdout",
          "text": [
            "{'Cassava Leaf Disease': 0, 'Corn or Maize': 1, 'Fruit Plants': 2, 'Herbarium': 3, 'Plant Pathology': 4, 'Tomato detection': 5, 'Wild Edible Plants': 6, 'flower_classification': 7}\n"
          ]
        }
      ],
      "source": [
        "# Extract full plant annotations\n",
        "super_cat_type = {train_dataset_name[x]: x for x in range(len(train_dataset_name))}\n",
        "print(super_cat_type)\n",
        "\n",
        "# Extract supercategory labels\n",
        "csv_matrix = [];\n",
        "for img_name in img_names:\n",
        "\n",
        "  for super_cat in train_dataset_name:\n",
        "    if(img_name in img_name_cat[super_cat]):\n",
        "      csv_row = [];\n",
        "      csv_row = [img_name, super_cat_type[super_cat]];\n",
        "\n",
        "  # WRITE CSV DATA FORMAT\n",
        "  csv_matrix.append(csv_row);\n"
      ]
    },
    {
      "cell_type": "code",
      "execution_count": null,
      "metadata": {
        "id": "MX82mFpnV2WH"
      },
      "outputs": [],
      "source": [
        "import csv\n",
        "\n",
        "# open the file in the write mode\n",
        "with open('dataset/bbox_full_train.csv', 'w') as file:\n",
        "\n",
        "    # create the csv writer\n",
        "    writer = csv.writer(file)\n",
        "\n",
        "    # write a row to the csv file\n",
        "    for row in csv_matrix:\n",
        "      writer.writerow(row);\n",
        "\n"
      ]
    },
    {
      "cell_type": "code",
      "execution_count": null,
      "metadata": {
        "id": "vf8WvAU1oA8x"
      },
      "outputs": [],
      "source": []
    },
    {
      "cell_type": "code",
      "execution_count": null,
      "metadata": {
        "id": "xb7R61SqBuy-"
      },
      "outputs": [],
      "source": []
    },
    {
      "cell_type": "code",
      "execution_count": null,
      "metadata": {
        "id": "qS67935apDYp"
      },
      "outputs": [],
      "source": []
    },
    {
      "cell_type": "code",
      "execution_count": null,
      "metadata": {
        "id": "udvZKoDhp10R"
      },
      "outputs": [],
      "source": []
    }
  ],
  "metadata": {
    "colab": {
      "provenance": []
    },
    "gpuClass": "standard",
    "kernelspec": {
      "display_name": "Python 3",
      "name": "python3"
    },
    "language_info": {
      "name": "python"
    }
  },
  "nbformat": 4,
  "nbformat_minor": 0
}