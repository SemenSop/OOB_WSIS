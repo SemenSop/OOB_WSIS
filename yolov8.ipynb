{
  "cells": [
    {
      "cell_type": "code",
      "execution_count": 1,
      "metadata": {
        "colab": {
          "base_uri": "https://localhost:8080/"
        },
        "id": "IpMt144pm_R_",
        "outputId": "6802b039-4c64-4e35-ace5-24fa725ba69b"
      },
      "outputs": [
        {
          "output_type": "stream",
          "name": "stdout",
          "text": [
            "/root\n",
            "Mounted at /content/drive/\n",
            "/content/drive/MyDrive/Colab Notebooks/diploma_thesis\n",
            "bbox_full_train.csv          extract_full_masks.ipynb\n",
            "bbox_part_train.csv          \u001b[0m\u001b[01;34mimagenet\u001b[0m/\n",
            "Conformer_small_patch16.pth  \u001b[01;34mNOTEBOOK_TRANSCAM\u001b[0m/\n",
            "\u001b[01;34mCutLER\u001b[0m/                      plot_images_for_thesis.ipynb\n",
            "\u001b[01;34mdataset\u001b[0m/                     polygon_masks.py\n",
            "\u001b[01;34mdataset_exp_2\u001b[0m/               \u001b[01;34m__pycache__\u001b[0m/\n",
            "dataset.ipynb                test_cutler.ipynb\n",
            "dataset_v2.ipynb             test_cutler_train.ipynb\n",
            "\u001b[01;34mdataset_yolo\u001b[0m/                test_cutler_v2.ipynb\n",
            "divide_dataset.ipynb         \u001b[01;34mTransCAM\u001b[0m/\n",
            "\u001b[01;34mè«ñêê_2022\u001b[0m/                  \u001b[01;34multralytics\u001b[0m/\n",
            "\u001b[01;34mEXP_2\u001b[0m/                       yolov8.ipynb\n",
            "explore_masks.ipynb\n"
          ]
        }
      ],
      "source": [
        "%cd\n",
        "from google.colab import drive\n",
        "drive.mount('/content/drive/')\n",
        "%cd /content/drive/MyDrive/Colab Notebooks/diploma_thesis\n",
        "%ls"
      ]
    },
    {
      "cell_type": "code",
      "source": [
        "flag = input(\"full or part: \")\n",
        "print(\"You choose\", flag, 'plants segmentation')"
      ],
      "metadata": {
        "colab": {
          "base_uri": "https://localhost:8080/",
          "height": 183
        },
        "id": "slhdj4t5u6A5",
        "outputId": "5d4435ff-b76e-4c7d-ddd5-92a59972b95b"
      },
      "execution_count": 3,
      "outputs": [
        {
          "output_type": "stream",
          "name": "stdout",
          "text": [
            "full or part: lol\n",
            "You choose lol plants segmentation\n",
            "lol\n"
          ]
        },
        {
          "output_type": "error",
          "ename": "SyntaxError",
          "evalue": "ignored",
          "traceback": [
            "\u001b[0;36m  File \u001b[0;32m\"<ipython-input-3-2e401f7a181d>\"\u001b[0;36m, line \u001b[0;32m5\u001b[0m\n\u001b[0;31m    return\u001b[0m\n\u001b[0m    ^\u001b[0m\n\u001b[0;31mSyntaxError\u001b[0m\u001b[0;31m:\u001b[0m 'return' outside function\n"
          ]
        }
      ]
    },
    {
      "cell_type": "code",
      "execution_count": null,
      "metadata": {
        "id": "4LqEVoAkrRho"
      },
      "outputs": [],
      "source": [
        "!git clone https://github.com/ultralytics/ultralytics\n",
        "!pip install -qe ultralytics\n",
        "%cd ultralytics\n",
        "!pip install -r requirements.txt"
      ]
    },
    {
      "cell_type": "code",
      "execution_count": null,
      "metadata": {
        "id": "l3JJHMC04VPJ"
      },
      "outputs": [],
      "source": [
        "# Train a model\n",
        "if( flag=='part'):\n",
        "  !yolo task=segment mode=train model=\"yolov8n-seg.pt\" data=\"../dataset_yolo/data.yaml\" batch=6 epochs=80 optimizer=Adam lr0=4e-3 imgsz=640\n",
        "else:\n",
        "  !yolo task=segment mode=train model=\"yolov8n-seg.pt\" data=\"../dataset_exp_2/data.yaml\" batch=6 epochs=80 optimizer=Adam lr0=4e-3 imgsz=640"
      ]
    },
    {
      "cell_type": "code",
      "execution_count": null,
      "metadata": {
        "id": "TVFFFHmQoAOG"
      },
      "outputs": [],
      "source": [
        "# !yolo task=segment mode=val batch=1 model=\"runs/segment/train/weights/best.pt\" data=\"../dataset_yolo/data.yaml\" source='../dataset_yolo/images/test' imgsz=320"
      ]
    },
    {
      "cell_type": "code",
      "execution_count": null,
      "metadata": {
        "id": "fOSg827IoH_I"
      },
      "outputs": [],
      "source": [
        "# Make prediction\n",
        "if( flag=='part'):\n",
        "  !yolo task=segment mode=predict model=\"runs/segment/train/weights/best.pt\" data=\"../dataset_yolo/data.yaml\" source='../dataset_yolo/images/test' imgsz=640 save=True save_txt=True save_conf=True iou=0.01\n",
        "else:\n",
        "  !yolo task=segment mode=predict model=\"runs/segment/train/weights/best.pt\" data=\"../dataset_exp_2/data.yaml\" source='../dataset_exp_2/images/test' imgsz=640 save=True save_txt=True save_conf=True iou=0.01"
      ]
    },
    {
      "cell_type": "code",
      "execution_count": null,
      "metadata": {
        "id": "m1lmPnYtoIqY"
      },
      "outputs": [],
      "source": []
    },
    {
      "cell_type": "code",
      "execution_count": null,
      "metadata": {
        "id": "eK008BF-ctcn"
      },
      "outputs": [],
      "source": []
    },
    {
      "cell_type": "code",
      "execution_count": null,
      "metadata": {
        "id": "vf8WvAU1oA8x"
      },
      "outputs": [],
      "source": []
    },
    {
      "cell_type": "code",
      "execution_count": null,
      "metadata": {
        "id": "xb7R61SqBuy-"
      },
      "outputs": [],
      "source": []
    },
    {
      "cell_type": "code",
      "execution_count": null,
      "metadata": {
        "id": "LFqHRFShMZgc"
      },
      "outputs": [],
      "source": []
    },
    {
      "cell_type": "code",
      "execution_count": null,
      "metadata": {
        "id": "oe4dMBZ2B55e"
      },
      "outputs": [],
      "source": []
    },
    {
      "cell_type": "code",
      "execution_count": null,
      "metadata": {
        "id": "KuaDC2PmuTZh"
      },
      "outputs": [],
      "source": []
    },
    {
      "cell_type": "code",
      "execution_count": null,
      "metadata": {
        "id": "udvZKoDhp10R"
      },
      "outputs": [],
      "source": []
    },
    {
      "cell_type": "code",
      "execution_count": null,
      "metadata": {
        "id": "k4EYnl9wp2V0"
      },
      "outputs": [],
      "source": []
    },
    {
      "cell_type": "code",
      "execution_count": null,
      "metadata": {
        "id": "p7mQYzSup2yc"
      },
      "outputs": [],
      "source": []
    },
    {
      "cell_type": "code",
      "execution_count": null,
      "metadata": {
        "id": "KelO0VvYqBgE"
      },
      "outputs": [],
      "source": []
    },
    {
      "cell_type": "code",
      "execution_count": null,
      "metadata": {
        "id": "VM_GLzI7YSrR"
      },
      "outputs": [],
      "source": []
    },
    {
      "cell_type": "code",
      "execution_count": null,
      "metadata": {
        "id": "58s9PJaKv37v"
      },
      "outputs": [],
      "source": []
    },
    {
      "cell_type": "code",
      "execution_count": null,
      "metadata": {
        "id": "QGRlPlRoyiMV"
      },
      "outputs": [],
      "source": []
    },
    {
      "cell_type": "code",
      "execution_count": null,
      "metadata": {
        "id": "Z_O9267m6MJF"
      },
      "outputs": [],
      "source": []
    },
    {
      "cell_type": "code",
      "execution_count": null,
      "metadata": {
        "id": "F70lYLHy9il3"
      },
      "outputs": [],
      "source": []
    },
    {
      "cell_type": "code",
      "execution_count": null,
      "metadata": {
        "id": "mQolf7y1o287"
      },
      "outputs": [],
      "source": []
    }
  ],
  "metadata": {
    "accelerator": "GPU",
    "colab": {
      "provenance": []
    },
    "gpuClass": "standard",
    "kernelspec": {
      "display_name": "Python 3",
      "name": "python3"
    },
    "language_info": {
      "name": "python"
    }
  },
  "nbformat": 4,
  "nbformat_minor": 0
}