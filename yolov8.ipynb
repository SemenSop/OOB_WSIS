{
  "nbformat": 4,
  "nbformat_minor": 0,
  "metadata": {
    "colab": {
      "provenance": []
    },
    "kernelspec": {
      "name": "python3",
      "display_name": "Python 3"
    },
    "language_info": {
      "name": "python"
    },
    "gpuClass": "standard",
    "accelerator": "GPU"
  },
  "cells": [
    {
      "cell_type": "code",
      "execution_count": 2,
      "metadata": {
        "colab": {
          "base_uri": "https://localhost:8080/"
        },
        "id": "IpMt144pm_R_",
        "outputId": "82054494-1d8c-467c-dece-a3401eed9cbc"
      },
      "outputs": [
        {
          "output_type": "stream",
          "name": "stdout",
          "text": [
            "/root\n",
            "Mounted at /content/drive/\n",
            "/content/drive/MyDrive/Colab Notebooks/WSSS\n",
            "\u001b[0m\u001b[01;34mAdelaiDet\u001b[0m/                   res38_cls.pth\n",
            "ADL_notok.ipynb              \u001b[01;34mSEAM\u001b[0m/\n",
            "\u001b[01;34mAuxSegNet\u001b[0m/                   \u001b[01;34mSESS\u001b[0m/\n",
            "\u001b[01;34mBANA\u001b[0m/                        \u001b[01;34msrc\u001b[0m/\n",
            "\u001b[01;34mBBAM\u001b[0m/                        test_img2.jpg\n",
            "BBAM_notok.ipynb             test_img.jpg\n",
            "\u001b[01;34mBESTIE\u001b[0m/                      \u001b[01;34mTokenCut\u001b[0m/\n",
            "BoxInst_notok.ipynb          TokenCut_ok.ipynb\n",
            "\u001b[01;34mCCAM\u001b[0m/                        \u001b[01;34mtranscam\u001b[0m/\n",
            "CCAM_ok.ipynb                transcam_6485.pth\n",
            "\u001b[01;34mCOCO2YOLO\u001b[0m/                   transcam_deeplab.ipynb\n",
            "Conformer_small_patch16.pth  transcam_instance_ok.ipynb\n",
            "\u001b[01;34mdata_voc\u001b[0m/                    transcam_instance_v2_ok.ipynb\n",
            "\u001b[01;34mDiscoBox\u001b[0m/                    transcam_instance_v3_ok.ipynb\n",
            "DiscoBox_notok.ipynb         transcam_masks_ok.ipynb\n",
            "\u001b[01;34mexternals\u001b[0m/                   transcam_ok.ipynb\n",
            "global-wheat-detection.zip   transcam_train.ipynb\n",
            "instances_val2017.json       transcam_wheat_ok.ipynb\n",
            "instance_train_ok.ipynb      transcam_wheat_train.ipynb\n",
            "\u001b[01;34misim\u001b[0m/                        \u001b[01;34multralytics\u001b[0m/\n",
            "isim_notok.ipynb             val_test.ipynb\n",
            "kaggle.json                  \u001b[01;34mwheat\u001b[0m/\n",
            "\u001b[01;34mLOST\u001b[0m/                        \u001b[01;34mwheat2\u001b[0m/\n",
            "LOST_ok.ipynb                wheat_for_transcam_notok.ipynb\n",
            "midas_ok.ipynb               yolov8.ipynb\n",
            "\u001b[01;34mPuzzleCAM\u001b[0m/\n"
          ]
        }
      ],
      "source": [
        "%cd\n",
        "from google.colab import drive\n",
        "drive.mount('/content/drive/')\n",
        "%cd /content/drive/MyDrive/Colab Notebooks/WSSS\n",
        "%ls"
      ]
    },
    {
      "cell_type": "code",
      "source": [
        "!pip install ultralytics\n",
        "import ultralytics\n",
        "ultralytics.checks()"
      ],
      "metadata": {
        "id": "4LqEVoAkrRho",
        "colab": {
          "base_uri": "https://localhost:8080/",
          "height": 1000
        },
        "outputId": "e5fedcc6-b40b-4a93-8953-e9759a579931"
      },
      "execution_count": 3,
      "outputs": [
        {
          "output_type": "stream",
          "name": "stderr",
          "text": [
            "Ultralytics YOLOv8.0.7 🚀 Python-3.8.16 torch-1.13.0+cu116 CUDA:0 (Tesla T4, 15110MiB)\n",
            "Setup complete ✅ (2 CPUs, 12.7 GB RAM, 23.0/78.2 GB disk)\n"
          ]
        }
      ]
    },
    {
      "cell_type": "code",
      "source": [
        "!git clone https://github.com/ultralytics/ultralytics\n",
        "!pip install -qe ultralytics\n",
        "%cd ultralytics\n",
        "# !pip install -e '.[dev]'\n",
        "# !pip install -r requirements.txt"
      ],
      "metadata": {
        "colab": {
          "base_uri": "https://localhost:8080/"
        },
        "id": "l3JJHMC04VPJ",
        "outputId": "20d583ea-5de7-48d9-a927-e68699b487c0"
      },
      "execution_count": 4,
      "outputs": [
        {
          "output_type": "stream",
          "name": "stdout",
          "text": [
            "fatal: destination path 'ultralytics' already exists and is not an empty directory.\n",
            "  Preparing metadata (setup.py) ... \u001b[?25l\u001b[?25hdone\n",
            "/content/drive/MyDrive/Colab Notebooks/WSSS/ultralytics\n"
          ]
        }
      ]
    },
    {
      "cell_type": "code",
      "source": [
        "from ultralytics import YOLO\n",
        "\n",
        "# Load a model\n",
        "!yolo task=segment mode=train model=\"yolov8n-seg.pt\" data=\"../wheat/data.yaml\" batch=2 epochs=2 imgsz=512 optimizer=Adam\n",
        "# model = YOLO(\"yolov8n-seg.yaml\")\n",
        "# build_optimizer(model, name='Adam', lr=0.001, momentum=0.9, decay=1e-05)\n",
        "# results = model.train(data=\"../wheat/data.yaml\", batch_size=2, epochs=5)\n"
      ],
      "metadata": {
        "id": "TVFFFHmQoAOG",
        "colab": {
          "base_uri": "https://localhost:8080/"
        },
        "outputId": "7cea2e0c-d68c-4412-b9d9-cf07a8f5851a"
      },
      "execution_count": 8,
      "outputs": [
        {
          "output_type": "stream",
          "name": "stdout",
          "text": [
            "Ultralytics YOLOv8.0.6 🚀 Python-3.8.16 torch-1.13.0+cu116 CUDA:0 (Tesla T4, 15110MiB)\n",
            "\u001b[34m\u001b[1myolo/engine/trainer: \u001b[0mtask=segment, mode=train, model=yolov8n-seg.pt, data=../wheat/data.yaml, epochs=2, patience=50, batch=2, imgsz=512, save=True, cache=False, device=, workers=8, project=None, name=None, exist_ok=False, pretrained=False, optimizer=Adam, verbose=False, seed=0, deterministic=True, single_cls=False, image_weights=False, rect=False, cos_lr=False, close_mosaic=10, resume=False, overlap_mask=True, mask_ratio=4, dropout=0.0, val=True, save_json=False, save_hybrid=False, conf=None, iou=0.7, max_det=300, half=False, dnn=False, plots=True, source=None, show=False, save_txt=False, save_conf=False, save_crop=False, hide_labels=False, hide_conf=False, vid_stride=1, line_thickness=3, visualize=False, augment=False, agnostic_nms=False, retina_masks=False, format=torchscript, keras=False, optimize=False, int8=False, dynamic=False, simplify=False, opset=17, workspace=4, nms=False, lr0=0.01, lrf=0.01, momentum=0.937, weight_decay=0.0005, warmup_epochs=3.0, warmup_momentum=0.8, warmup_bias_lr=0.1, box=7.5, cls=0.5, dfl=1.5, fl_gamma=0.0, label_smoothing=0.0, nbs=64, hsv_h=0.015, hsv_s=0.7, hsv_v=0.4, degrees=0.0, translate=0.1, scale=0.5, shear=0.0, perspective=0.0, flipud=0.0, fliplr=0.5, mosaic=1.0, mixup=0.0, copy_paste=0.0, cfg=None, hydra={'output_subdir': None, 'run': {'dir': '.'}}, v5loader=False, save_dir=runs/segment/train2\n",
            "Overriding model.yaml nc=80 with nc=1\n",
            "\n",
            "                   from  n    params  module                                       arguments                     \n",
            "  0                  -1  1       464  ultralytics.nn.modules.Conv                  [3, 16, 3, 2]                 \n",
            "  1                  -1  1      4672  ultralytics.nn.modules.Conv                  [16, 32, 3, 2]                \n",
            "  2                  -1  1      7360  ultralytics.nn.modules.C2f                   [32, 32, 1, True]             \n",
            "  3                  -1  1     18560  ultralytics.nn.modules.Conv                  [32, 64, 3, 2]                \n",
            "  4                  -1  2     49664  ultralytics.nn.modules.C2f                   [64, 64, 2, True]             \n",
            "  5                  -1  1     73984  ultralytics.nn.modules.Conv                  [64, 128, 3, 2]               \n",
            "  6                  -1  2    197632  ultralytics.nn.modules.C2f                   [128, 128, 2, True]           \n",
            "  7                  -1  1    295424  ultralytics.nn.modules.Conv                  [128, 256, 3, 2]              \n",
            "  8                  -1  1    460288  ultralytics.nn.modules.C2f                   [256, 256, 1, True]           \n",
            "  9                  -1  1    164608  ultralytics.nn.modules.SPPF                  [256, 256, 5]                 \n",
            " 10                  -1  1         0  torch.nn.modules.upsampling.Upsample         [None, 2, 'nearest']          \n",
            " 11             [-1, 6]  1         0  ultralytics.nn.modules.Concat                [1]                           \n",
            " 12                  -1  1    148224  ultralytics.nn.modules.C2f                   [384, 128, 1]                 \n",
            " 13                  -1  1         0  torch.nn.modules.upsampling.Upsample         [None, 2, 'nearest']          \n",
            " 14             [-1, 4]  1         0  ultralytics.nn.modules.Concat                [1]                           \n",
            " 15                  -1  1     37248  ultralytics.nn.modules.C2f                   [192, 64, 1]                  \n",
            " 16                  -1  1     36992  ultralytics.nn.modules.Conv                  [64, 64, 3, 2]                \n",
            " 17            [-1, 12]  1         0  ultralytics.nn.modules.Concat                [1]                           \n",
            " 18                  -1  1    123648  ultralytics.nn.modules.C2f                   [192, 128, 1]                 \n",
            " 19                  -1  1    147712  ultralytics.nn.modules.Conv                  [128, 128, 3, 2]              \n",
            " 20             [-1, 9]  1         0  ultralytics.nn.modules.Concat                [1]                           \n",
            " 21                  -1  1    493056  ultralytics.nn.modules.C2f                   [384, 256, 1]                 \n",
            " 22        [15, 18, 21]  1   1004275  ultralytics.nn.modules.Segment               [1, 32, 64, [64, 128, 256]]   \n",
            "YOLOv8n-seg summary: 261 layers, 3263811 parameters, 3263795 gradients, 12.1 GFLOPs\n",
            "\n",
            "Transferred 381/417 items from pretrained weights\n",
            "\u001b[34m\u001b[1moptimizer:\u001b[0m Adam(lr=0.01) with parameter groups 66 weight(decay=0.0), 77 weight(decay=0.0005), 76 bias\n",
            "\u001b[34m\u001b[1mtrain: \u001b[0mScanning /content/drive/MyDrive/Colab Notebooks/WSSS/wheat/labels/train.cache... 3275 images, 69 backgrounds, 29 corrupt: 100% 3323/3323 [00:00<?, ?it/s]\n",
            "\u001b[34m\u001b[1mtrain: \u001b[0mWARNING ⚠️ /content/drive/MyDrive/Colab Notebooks/WSSS/wheat/images/train/8176735c1.jpg: ignoring corrupt image/label: labels require 5 columns, 1 columns detected\n",
            "\u001b[34m\u001b[1mtrain: \u001b[0mWARNING ⚠️ /content/drive/MyDrive/Colab Notebooks/WSSS/wheat/images/train/8301297cc.jpg: ignoring corrupt image/label: labels require 5 columns, 1 columns detected\n",
            "\u001b[34m\u001b[1mtrain: \u001b[0mWARNING ⚠️ /content/drive/MyDrive/Colab Notebooks/WSSS/wheat/images/train/89376d6f5.jpg: ignoring corrupt image/label: labels require 5 columns, 1 columns detected\n",
            "\u001b[34m\u001b[1mtrain: \u001b[0mWARNING ⚠️ /content/drive/MyDrive/Colab Notebooks/WSSS/wheat/images/train/8de789df8.jpg: ignoring corrupt image/label: labels require 5 columns, 1 columns detected\n",
            "\u001b[34m\u001b[1mtrain: \u001b[0mWARNING ⚠️ /content/drive/MyDrive/Colab Notebooks/WSSS/wheat/images/train/a06dbb0fd.jpg: ignoring corrupt image/label: labels require 5 columns, 1 columns detected\n",
            "\u001b[34m\u001b[1mtrain: \u001b[0mWARNING ⚠️ /content/drive/MyDrive/Colab Notebooks/WSSS/wheat/images/train/a13c89a7f.jpg: ignoring corrupt image/label: labels require 5 columns, 1 columns detected\n",
            "\u001b[34m\u001b[1mtrain: \u001b[0mWARNING ⚠️ /content/drive/MyDrive/Colab Notebooks/WSSS/wheat/images/train/a23558330.jpg: ignoring corrupt image/label: labels require 5 columns, 1 columns detected\n",
            "\u001b[34m\u001b[1mtrain: \u001b[0mWARNING ⚠️ /content/drive/MyDrive/Colab Notebooks/WSSS/wheat/images/train/a3bcd1d0f.jpg: ignoring corrupt image/label: labels require 5 columns, 1 columns detected\n",
            "\u001b[34m\u001b[1mtrain: \u001b[0mWARNING ⚠️ /content/drive/MyDrive/Colab Notebooks/WSSS/wheat/images/train/a9b3451c9.jpg: ignoring corrupt image/label: labels require 5 columns, 1 columns detected\n",
            "\u001b[34m\u001b[1mtrain: \u001b[0mWARNING ⚠️ /content/drive/MyDrive/Colab Notebooks/WSSS/wheat/images/train/b0caf416d.jpg: ignoring corrupt image/label: labels require 5 columns, 1 columns detected\n",
            "\u001b[34m\u001b[1mtrain: \u001b[0mWARNING ⚠️ /content/drive/MyDrive/Colab Notebooks/WSSS/wheat/images/train/b56668db8.jpg: ignoring corrupt image/label: labels require 5 columns, 1 columns detected\n",
            "\u001b[34m\u001b[1mtrain: \u001b[0mWARNING ⚠️ /content/drive/MyDrive/Colab Notebooks/WSSS/wheat/images/train/b67b3c007.jpg: ignoring corrupt image/label: labels require 5 columns, 1 columns detected\n",
            "\u001b[34m\u001b[1mtrain: \u001b[0mWARNING ⚠️ /content/drive/MyDrive/Colab Notebooks/WSSS/wheat/images/train/b9bffd5e2.jpg: ignoring corrupt image/label: labels require 5 columns, 1 columns detected\n",
            "\u001b[34m\u001b[1mtrain: \u001b[0mWARNING ⚠️ /content/drive/MyDrive/Colab Notebooks/WSSS/wheat/images/train/c3c03e0b7.jpg: ignoring corrupt image/label: labels require 5 columns, 1 columns detected\n",
            "\u001b[34m\u001b[1mtrain: \u001b[0mWARNING ⚠️ /content/drive/MyDrive/Colab Notebooks/WSSS/wheat/images/train/c47a1b214.jpg: ignoring corrupt image/label: labels require 5 columns, 1 columns detected\n",
            "\u001b[34m\u001b[1mtrain: \u001b[0mWARNING ⚠️ /content/drive/MyDrive/Colab Notebooks/WSSS/wheat/images/train/c97adf022.jpg: ignoring corrupt image/label: labels require 5 columns, 1 columns detected\n",
            "\u001b[34m\u001b[1mtrain: \u001b[0mWARNING ⚠️ /content/drive/MyDrive/Colab Notebooks/WSSS/wheat/images/train/ce78f7f47.jpg: ignoring corrupt image/label: labels require 5 columns, 1 columns detected\n",
            "\u001b[34m\u001b[1mtrain: \u001b[0mWARNING ⚠️ /content/drive/MyDrive/Colab Notebooks/WSSS/wheat/images/train/d6341ae47.jpg: ignoring corrupt image/label: labels require 5 columns, 1 columns detected\n",
            "\u001b[34m\u001b[1mtrain: \u001b[0mWARNING ⚠️ /content/drive/MyDrive/Colab Notebooks/WSSS/wheat/images/train/d64fc42f7.jpg: ignoring corrupt image/label: labels require 5 columns, 1 columns detected\n",
            "\u001b[34m\u001b[1mtrain: \u001b[0mWARNING ⚠️ /content/drive/MyDrive/Colab Notebooks/WSSS/wheat/images/train/d771bb084.jpg: ignoring corrupt image/label: labels require 5 columns, 1 columns detected\n",
            "\u001b[34m\u001b[1mtrain: \u001b[0mWARNING ⚠️ /content/drive/MyDrive/Colab Notebooks/WSSS/wheat/images/train/d94f9d8a2.jpg: ignoring corrupt image/label: labels require 5 columns, 1 columns detected\n",
            "\u001b[34m\u001b[1mtrain: \u001b[0mWARNING ⚠️ /content/drive/MyDrive/Colab Notebooks/WSSS/wheat/images/train/de2a3cf37.jpg: ignoring corrupt image/label: labels require 5 columns, 1 columns detected\n",
            "\u001b[34m\u001b[1mtrain: \u001b[0mWARNING ⚠️ /content/drive/MyDrive/Colab Notebooks/WSSS/wheat/images/train/e596e6bb2.jpg: ignoring corrupt image/label: labels require 5 columns, 1 columns detected\n",
            "\u001b[34m\u001b[1mtrain: \u001b[0mWARNING ⚠️ /content/drive/MyDrive/Colab Notebooks/WSSS/wheat/images/train/ee49343d5.jpg: ignoring corrupt image/label: labels require 5 columns, 1 columns detected\n",
            "\u001b[34m\u001b[1mtrain: \u001b[0mWARNING ⚠️ /content/drive/MyDrive/Colab Notebooks/WSSS/wheat/images/train/f1a8585e0.jpg: ignoring corrupt image/label: labels require 5 columns, 1 columns detected\n",
            "\u001b[34m\u001b[1mtrain: \u001b[0mWARNING ⚠️ /content/drive/MyDrive/Colab Notebooks/WSSS/wheat/images/train/f358b3414.jpg: ignoring corrupt image/label: labels require 5 columns, 1 columns detected\n",
            "\u001b[34m\u001b[1mtrain: \u001b[0mWARNING ⚠️ /content/drive/MyDrive/Colab Notebooks/WSSS/wheat/images/train/f3ed7c4ee.jpg: ignoring corrupt image/label: labels require 5 columns, 1 columns detected\n",
            "\u001b[34m\u001b[1mtrain: \u001b[0mWARNING ⚠️ /content/drive/MyDrive/Colab Notebooks/WSSS/wheat/images/train/fab41168b.jpg: ignoring corrupt image/label: labels require 5 columns, 1 columns detected\n",
            "\u001b[34m\u001b[1mtrain: \u001b[0mWARNING ⚠️ /content/drive/MyDrive/Colab Notebooks/WSSS/wheat/images/train/fe5c215e2.jpg: ignoring corrupt image/label: labels require 5 columns, 1 columns detected\n",
            "\u001b[34m\u001b[1malbumentations: \u001b[0mBlur(p=0.01, blur_limit=(3, 7)), MedianBlur(p=0.01, blur_limit=(3, 7)), ToGray(p=0.01), CLAHE(p=0.01, clip_limit=(1, 4.0), tile_grid_size=(8, 8))\n",
            "\u001b[34m\u001b[1mval: \u001b[0mScanning /content/drive/MyDrive/Colab Notebooks/WSSS/wheat/labels/val.cache... 99 images, 0 backgrounds, 0 corrupt: 100% 99/99 [00:00<?, ?it/s]\n",
            "Image sizes 512 train, 512 val\n",
            "Using 2 dataloader workers\n",
            "Logging results to \u001b[1mruns/segment/train2\u001b[0m\n",
            "Starting training for 2 epochs...\n",
            "\n",
            "      Epoch    GPU_mem   box_loss   seg_loss   cls_loss   dfl_loss  Instances       Size\n",
            "        1/2      2.12G      2.807      4.024      2.524      1.627         38        512: 100% 1647/1647 [11:55<00:00,  2.30it/s]\n",
            "                 Class     Images  Instances      Box(P          R      mAP50  mAP50-95)     Mask(P          R      mAP50  mAP50-95): 100% 25/25 [00:05<00:00,  4.88it/s]\n",
            "                   all         99       3638      0.611       0.49      0.496      0.201      0.599       0.48       0.47      0.167\n",
            "\n",
            "      Epoch    GPU_mem   box_loss   seg_loss   cls_loss   dfl_loss  Instances       Size\n",
            "        2/2      2.47G       2.66      3.894      2.352      1.532         44        512: 100% 1647/1647 [11:03<00:00,  2.48it/s]\n",
            "                 Class     Images  Instances      Box(P          R      mAP50  mAP50-95)     Mask(P          R      mAP50  mAP50-95): 100% 25/25 [00:06<00:00,  3.77it/s]\n",
            "                   all         99       3638      0.691      0.542      0.556       0.23      0.668      0.518      0.519      0.186\n",
            "\n",
            "2 epochs completed in 0.388 hours.\n",
            "Optimizer stripped from runs/segment/train2/weights/last.pt, 6.8MB\n",
            "Optimizer stripped from runs/segment/train2/weights/best.pt, 6.8MB\n",
            "\n",
            "Validating runs/segment/train2/weights/best.pt...\n",
            "Ultralytics YOLOv8.0.6 🚀 Python-3.8.16 torch-1.13.0+cu116 CUDA:0 (Tesla T4, 15110MiB)\n",
            "Fusing layers... \n",
            "YOLOv8n-seg summary: 195 layers, 3258259 parameters, 0 gradients, 12.0 GFLOPs\n",
            "                 Class     Images  Instances      Box(P          R      mAP50  mAP50-95)     Mask(P          R      mAP50  mAP50-95): 100% 25/25 [06:20<00:00, 15.20s/it]\n",
            "                   all         99       3638      0.691      0.542      0.556       0.23      0.667      0.517      0.515      0.185\n",
            "Speed: 0.5ms pre-process, 9.2ms inference, 0.0ms loss, 5.9ms post-process per image\n",
            "Saving runs/segment/train2/predictions.json...\n",
            "Results saved to \u001b[1mruns/segment/train2\u001b[0m\n"
          ]
        }
      ]
    },
    {
      "cell_type": "code",
      "source": [
        "!yolo task=segment mode=val batch=2 model=\"runs/segment/train2/weights/best.pt\" data=\"../wheat/data.yaml\" source='../wheat/images/val' imgsz=512"
      ],
      "metadata": {
        "id": "fOSg827IoH_I",
        "colab": {
          "base_uri": "https://localhost:8080/"
        },
        "outputId": "eec5fc92-7793-4640-834f-d72672f8381f"
      },
      "execution_count": 9,
      "outputs": [
        {
          "output_type": "stream",
          "name": "stdout",
          "text": [
            "Ultralytics YOLOv8.0.6 🚀 Python-3.8.16 torch-1.13.0+cu116 CUDA:0 (Tesla T4, 15110MiB)\n",
            "Fusing layers... \n",
            "YOLOv8n-seg summary: 195 layers, 3258259 parameters, 0 gradients, 12.0 GFLOPs\n",
            "\u001b[34m\u001b[1mval: \u001b[0mScanning /content/drive/MyDrive/Colab Notebooks/WSSS/wheat/labels/val.cache... 99 images, 0 backgrounds, 0 corrupt: 100% 99/99 [00:00<?, ?it/s]\n",
            "                 Class     Images  Instances      Box(P          R      mAP50  mAP50-95)     Mask(P          R      mAP50  mAP50-95): 100% 50/50 [00:05<00:00,  9.20it/s]\n",
            "                   all         99       3638      0.691      0.542      0.557      0.231      0.667      0.517      0.518      0.184\n",
            "Speed: 0.8ms pre-process, 15.7ms inference, 0.0ms loss, 9.0ms post-process per image\n"
          ]
        }
      ]
    },
    {
      "cell_type": "code",
      "source": [
        "!yolo task=segment mode=predict model=\"runs/segment/train2/weights/best.pt\" data=\"../wheat/data.yaml\" source='../wheat/images/test' imgsz=512"
      ],
      "metadata": {
        "id": "m1lmPnYtoIqY",
        "colab": {
          "base_uri": "https://localhost:8080/"
        },
        "outputId": "74a6c9b2-dc7a-4d7f-d589-7729eb74b9d3"
      },
      "execution_count": 10,
      "outputs": [
        {
          "output_type": "stream",
          "name": "stdout",
          "text": [
            "Ultralytics YOLOv8.0.6 🚀 Python-3.8.16 torch-1.13.0+cu116 CUDA:0 (Tesla T4, 15110MiB)\n",
            "Fusing layers... \n",
            "YOLOv8n-seg summary: 195 layers, 3258259 parameters, 0 gradients, 12.0 GFLOPs\n",
            "image 1/10 /content/drive/MyDrive/Colab Notebooks/WSSS/wheat/images/test/2fd875eaa.jpg: 512x512 1 wheat, 11.3ms\n",
            "image 2/10 /content/drive/MyDrive/Colab Notebooks/WSSS/wheat/images/test/348a992bb.jpg: 512x512 10.8ms\n",
            "image 3/10 /content/drive/MyDrive/Colab Notebooks/WSSS/wheat/images/test/51b3e36ab.jpg: 512x512 9.9ms\n",
            "image 4/10 /content/drive/MyDrive/Colab Notebooks/WSSS/wheat/images/test/51f1be19e.jpg: 512x512 10.2ms\n",
            "image 5/10 /content/drive/MyDrive/Colab Notebooks/WSSS/wheat/images/test/53f253011.jpg: 512x512 10.3ms\n",
            "image 6/10 /content/drive/MyDrive/Colab Notebooks/WSSS/wheat/images/test/796707dd7.jpg: 512x512 16.1ms\n",
            "image 7/10 /content/drive/MyDrive/Colab Notebooks/WSSS/wheat/images/test/aac893a91.jpg: 512x512 10.7ms\n",
            "image 8/10 /content/drive/MyDrive/Colab Notebooks/WSSS/wheat/images/test/cb8d261a3.jpg: 512x512 10.2ms\n",
            "image 9/10 /content/drive/MyDrive/Colab Notebooks/WSSS/wheat/images/test/cc3532ff6.jpg: 512x512 12.6ms\n",
            "image 10/10 /content/drive/MyDrive/Colab Notebooks/WSSS/wheat/images/test/f5a1f0358.jpg: 512x512 11.3ms\n",
            "Speed: 0.5ms pre-process, 11.3ms inference, 0.7ms postprocess per image at shape (1, 3, 512, 512)\n",
            "Results saved to \u001b[1mruns/segment/predict2\u001b[0m\n"
          ]
        }
      ]
    },
    {
      "cell_type": "code",
      "source": [],
      "metadata": {
        "id": "vf8WvAU1oA8x"
      },
      "execution_count": null,
      "outputs": []
    },
    {
      "cell_type": "code",
      "source": [],
      "metadata": {
        "id": "xb7R61SqBuy-"
      },
      "execution_count": null,
      "outputs": []
    },
    {
      "cell_type": "code",
      "source": [],
      "metadata": {
        "id": "oe4dMBZ2B55e"
      },
      "execution_count": null,
      "outputs": []
    },
    {
      "cell_type": "code",
      "source": [
        "\n",
        "%ls"
      ],
      "metadata": {
        "colab": {
          "base_uri": "https://localhost:8080/"
        },
        "id": "udvZKoDhp10R",
        "outputId": "0bc70f75-21c3-4b41-c1aa-5c61f8cabe68"
      },
      "execution_count": 25,
      "outputs": [
        {
          "output_type": "stream",
          "name": "stdout",
          "text": [
            "CITATION.cff     \u001b[0m\u001b[01;34mexamples\u001b[0m/    README.zh-CN.md   \u001b[01;34mtests\u001b[0m/\n",
            "cli.log          LICENSE      requirements.txt  \u001b[01;34multralytics\u001b[0m/\n",
            "CONTRIBUTING.md  MANIFEST.in  \u001b[01;34mruns\u001b[0m/             \u001b[01;34multralytics.egg-info\u001b[0m/\n",
            "\u001b[01;34mdocker\u001b[0m/          mkdocs.yml   setup.cfg         yolov8n-seg.pt\n",
            "\u001b[01;34mdocs\u001b[0m/            README.md    setup.py\n"
          ]
        }
      ]
    },
    {
      "cell_type": "code",
      "source": [],
      "metadata": {
        "id": "k4EYnl9wp2V0"
      },
      "execution_count": 8,
      "outputs": []
    },
    {
      "cell_type": "code",
      "source": [],
      "metadata": {
        "id": "p7mQYzSup2yc"
      },
      "execution_count": null,
      "outputs": []
    }
  ]
}